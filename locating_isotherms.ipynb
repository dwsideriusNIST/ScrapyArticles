{
 "cells": [
  {
   "cell_type": "code",
   "execution_count": 40,
   "metadata": {},
   "outputs": [],
   "source": [
    "from chemdataextractor.doc import Document, Heading, Paragraph\n",
    "import os\n",
    "import json\n",
    "import pandas as pd\n",
    "import csv\n",
    "import requests\n",
    "from nltk import sent_tokenize"
   ]
  },
  {
   "cell_type": "code",
   "execution_count": 2,
   "metadata": {},
   "outputs": [],
   "source": [
    "doi_index = []\n",
    "text = []"
   ]
  },
  {
   "cell_type": "code",
   "execution_count": 3,
   "metadata": {},
   "outputs": [],
   "source": [
    "pathacs = '/Users/juliachotoo/ScrapyArticles/scrapedjson/acs2/'\n",
    "\n",
    "for filename in os.listdir(pathacs):\n",
    "    with open(pathacs + filename, 'r'):\n",
    "        resultacs = json.load(open(pathacs + filename, mode='r'))\n",
    "        doi_index.append(resultacs['doi'])\n",
    "        text.append(resultacs['text'])\n",
    "\n",
    "pathspr = '/Users/juliachotoo/ScrapyArticles/scrapedjson/spr2/'\n",
    "\n",
    "for filename in os.listdir(pathspr):\n",
    "    with open(pathspr + filename, 'r'):\n",
    "        resultspr = json.load(open(pathspr + filename, mode='r'))\n",
    "        doi_index.append(resultspr['doi'])\n",
    "        text.append(resultspr['text'])\n",
    "\n",
    "pathlabels = '/Users/juliachotoo/ScrapyArticles/datalabels.csv'\n",
    "labels = []\n",
    "\n",
    "with open(pathlabels, 'r') as csvfile:\n",
    "    resultlabels = csv.reader(csvfile, delimiter=' ', quotechar='|')\n",
    "    for row in resultlabels:\n",
    "        labels.append(', '.join(row))\n",
    "\n",
    "labels[0] = labels[0].replace('\\ufeff', '')"
   ]
  },
  {
   "cell_type": "code",
   "execution_count": 22,
   "metadata": {},
   "outputs": [],
   "source": [
    "df = pd.DataFrame({'data': text, 'labels': labels})\n",
    "df = df[~df['labels'].str.contains('2')]\n",
    "#print(df.loc[0:9])"
   ]
  },
  {
   "cell_type": "code",
   "execution_count": 5,
   "metadata": {},
   "outputs": [],
   "source": [
    "host = 'http://dirac.nist.gov/adsorption.nist.gov'\n",
    "URL = host + '/srd205/api/gases.json'\n",
    "gas_library = json.loads(requests.get(URL).content.decode('utf-8'))"
   ]
  },
  {
   "cell_type": "code",
   "execution_count": 21,
   "metadata": {},
   "outputs": [],
   "source": [
    "#print(gas_library)"
   ]
  },
  {
   "cell_type": "code",
   "execution_count": 6,
   "metadata": {},
   "outputs": [],
   "source": [
    "doc = Document(text[0])"
   ]
  },
  {
   "cell_type": "code",
   "execution_count": 7,
   "metadata": {},
   "outputs": [],
   "source": [
    "#names = doc.records.serialize()\n",
    "#print(names)\n",
    "names = doc.cems\n"
   ]
  },
  {
   "cell_type": "code",
   "execution_count": 8,
   "metadata": {},
   "outputs": [
    {
     "name": "stdout",
     "output_type": "stream",
     "text": [
      "[Span('CH4', 606, 609), Span('11282-11285CODEN', 10347, 10363), Span('CO2', 6530, 6533), Span('nitro', 8345, 8350), Span('2,6-DNT', 8467, 8474), Span('triphenylene-2,6,10-tricarboxylic acid (H3TTCA)(7)', 1541, 1591), Span('CH4', 8900, 8903), Span('1,4-dioxane', 1643, 1654), Span('TTCA', 2607, 2611), Span('TNT', 8689, 8692), Span('N2', 4203, 4205), Span('CO2', 5927, 5930), Span('CO2', 6200, 6203), Span('CO2', 6440, 6443), Span('CO2', 6518, 6521), Span('CH4', 6522, 6525), Span('CH4', 4949, 4952), Span('N2', 729, 731), Span('In(NO3)3·H2O', 1597, 1609), Span('2,4-DNT', 8694, 8701), Span('CO2', 297, 300), Span('CO2', 8985, 8988), Span('CH4', 5065, 5068), Span('CO2', 5098, 5101), Span('CO2', 1413, 1416), Span('N2', 5823, 5825), Span('2,4-DNT', 7841, 7848), Span('CO2', 652, 655), Span('N2', 5735, 5737), Span('CO2', 8891, 8894), Span('N2', 4958, 4960), Span('DMF', 3516, 3519), Span('N2', 6454, 6456), Span('N2', 6534, 6536), Span('H2O', 3524, 3527), Span('CO2', 474, 477), Span('nitro', 1473, 1478), Span('methanol', 3928, 3936), Span('CO2', 5806, 5809), Span('nitro', 6827, 6832), Span('CH4', 5815, 5818), Span('TNT', 8453, 8456), Span('DMF', 1635, 1638), Span('DMF', 3363, 3366), Span('H2', 4794, 4796), Span('N2', 4787, 4789), Span('nitro', 7766, 7771), Span('CO2', 700, 703), Span('TTCA', 2327, 2331), Span('−y + 5/3, −x + 4/3, z – 1/6; B, −y + 5/3, x – y + 4/3, z + 1/3; C, y – 1/3, x + 1/3, −z + 11/6; D', 3036, 3133), Span('CO2', 4592, 4595), Span('TNT', 8112, 8115), Span('2,4-DNT', 8458, 8465), Span('N2', 5257, 5259), Span('N2', 5529, 5531), Span('(Me2NH2)6[In10(TTCA)12]·24DMF·15H2O', 1266, 1301), Span('2,6-dinitrotoluene', 7851, 7869), Span('CH4', 8989, 8992), Span('CO2', 4944, 4947), Span('CO2', 5056, 5059), Span('CO2', 4835, 4838), Span('CO2', 5731, 5734), Span('methanol', 3482, 3490), Span('hydrochloric acid', 1614, 1631), Span('methanol', 8090, 8098), Span('triphenylene-2,6,10-tricarboxylate', 8776, 8810), Span('H2', 4453, 4455), Span('DMF', 3304, 3307), Span('DMF', 3640, 3643), Span('μ3-CO2', 2041, 2047), Span('methanol', 7545, 7553), Span('TTCA', 2544, 2548), Span('4a-4c', 5764, 5769), Span('2,4,6-trinitrophenol', 1489, 1509), Span('2,6-DNT', 7871, 7878), Span('nitro', 7945, 7950), Span('carbon', 5885, 5891), Span('2,4-dinitrotoluene', 7821, 7839), Span('CH4', 5452, 5455), Span('N,N-dimethylformamide', 1358, 1379), Span('methane', 5860, 5867), Span('CO2', 6132, 6135), Span('CH4', 1433, 1436), Span('nitro', 8579, 8584), Span('nitro', 9091, 9096), Span('CO2', 5711, 5714), Span('DMF', 1352, 1355), Span('nitrobenzene', 7885, 7897), Span('N2', 5073, 5075), Span('methanol', 8662, 8670), Span('CO2', 577, 580), Span('CO2', 9018, 9021), Span('TTCA = triphenylene-2,6,10-tricarboxylate', 1306, 1347), Span('μ2-CO2', 2025, 2031), Span('N2', 5951, 5953), Span('CO2', 4651, 4654), Span('CO2', 5525, 5528), Span('N2', 1441, 1443), Span('methanol', 7965, 7973), Span('2,6-DNT', 8703, 8710), Span('2,6-DNT', 8126, 8133), Span('CO2', 6399, 6402), Span('CH4', 5943, 5946), Span('methanol', 7053, 7061), Span('CO2', 6000, 6003), Span('2,4,6-trinitrotoluene', 7792, 7813), Span('CH4', 6445, 6448), Span('Me2NH2+', 3354, 3361), Span('N2', 4306, 4308), Span('CH4', 721, 724), Span('CH4', 5249, 5252), Span('Me2NH2+', 3272, 3279), Span('H2O', 3372, 3375), Span('N2,(4)', 614, 620), Span('N2', 8908, 8910), Span('CH4', 5715, 5718), Span('methanol', 3543, 3551), Span('methanol', 7171, 7179), Span('nitro', 947, 952), Span('2,4-DNT', 8117, 8124), Span('CO2', 5448, 5451), Span('nitro', 8184, 8189), Span('TNT', 7815, 7818), Span('methanol', 6937, 6945), Span('H2O', 3648, 3651)]\n"
     ]
    }
   ],
   "source": [
    "print(names)"
   ]
  },
  {
   "cell_type": "code",
   "execution_count": 9,
   "metadata": {},
   "outputs": [
    {
     "name": "stdout",
     "output_type": "stream",
     "text": [
      "[Span('CH4', 606, 609), Span('11282-11285CODEN', 10347, 10363)]\n"
     ]
    }
   ],
   "source": [
    "print(names[0:2])"
   ]
  },
  {
   "cell_type": "code",
   "execution_count": 8,
   "metadata": {},
   "outputs": [
    {
     "data": {
      "text/plain": [
       "['__class__',\n",
       " '__delattr__',\n",
       " '__dict__',\n",
       " '__dir__',\n",
       " '__doc__',\n",
       " '__eq__',\n",
       " '__format__',\n",
       " '__ge__',\n",
       " '__getattribute__',\n",
       " '__gt__',\n",
       " '__hash__',\n",
       " '__init__',\n",
       " '__le__',\n",
       " '__lt__',\n",
       " '__module__',\n",
       " '__ne__',\n",
       " '__new__',\n",
       " '__reduce__',\n",
       " '__reduce_ex__',\n",
       " '__repr__',\n",
       " '__setattr__',\n",
       " '__sizeof__',\n",
       " '__str__',\n",
       " '__subclasshook__',\n",
       " '__weakref__',\n",
       " 'end',\n",
       " 'length',\n",
       " 'start',\n",
       " 'text']"
      ]
     },
     "execution_count": 8,
     "metadata": {},
     "output_type": "execute_result"
    }
   ],
   "source": [
    "dir(names[0])"
   ]
  },
  {
   "cell_type": "code",
   "execution_count": 8,
   "metadata": {},
   "outputs": [
    {
     "name": "stdout",
     "output_type": "stream",
     "text": [
      "{'text': 'DMF', 'start': 1352, 'end': 1355}\n"
     ]
    }
   ],
   "source": [
    "print(names[0].__dict__)"
   ]
  },
  {
   "cell_type": "code",
   "execution_count": 9,
   "metadata": {},
   "outputs": [
    {
     "name": "stdout",
     "output_type": "stream",
     "text": [
      "N2\n"
     ]
    }
   ],
   "source": [
    "print(names[9].text)"
   ]
  },
  {
   "cell_type": "code",
   "execution_count": 20,
   "metadata": {},
   "outputs": [],
   "source": [
    "gas_names = []\n",
    "for y in gas_library:\n",
    "    for x in y['Synonyms']:\n",
    "        gas_names.append(x)"
   ]
  },
  {
   "cell_type": "code",
   "execution_count": 11,
   "metadata": {
    "scrolled": true
   },
   "outputs": [
    {
     "name": "stdout",
     "output_type": "stream",
     "text": [
      "[Span('CO2', 6530, 6533), Span('CO2', 5927, 5930), Span('CO2', 6200, 6203), Span('CO2', 6440, 6443), Span('CO2', 6518, 6521), Span('CO2', 297, 300), Span('CO2', 8985, 8988), Span('CO2', 5098, 5101), Span('CO2', 1413, 1416), Span('CO2', 652, 655), Span('CO2', 8891, 8894), Span('CO2', 474, 477), Span('CO2', 5806, 5809), Span('CO2', 700, 703), Span('CO2', 4592, 4595), Span('CO2', 4944, 4947), Span('CO2', 5056, 5059), Span('CO2', 4835, 4838), Span('CO2', 5731, 5734), Span('CO2', 6132, 6135), Span('CO2', 5711, 5714), Span('CO2', 577, 580), Span('CO2', 9018, 9021), Span('CO2', 4651, 4654), Span('CO2', 5525, 5528), Span('CO2', 6399, 6402), Span('CO2', 6000, 6003), Span('CO2', 5448, 5451), Span('N,N-dimethylformamide', 1358, 1379), Span('H2', 4794, 4796), Span('H2', 4453, 4455), Span('hydrochloric acid', 1614, 1631), Span('CH4', 606, 609), Span('CH4', 8900, 8903), Span('CH4', 6522, 6525), Span('CH4', 4949, 4952), Span('CH4', 5065, 5068), Span('CH4', 5815, 5818), Span('CH4', 8989, 8992), Span('CH4', 5452, 5455), Span('CH4', 1433, 1436), Span('CH4', 5943, 5946), Span('CH4', 6445, 6448), Span('CH4', 721, 724), Span('CH4', 5249, 5252), Span('CH4', 5715, 5718), Span('methane', 5860, 5867), Span('methanol', 3928, 3936), Span('methanol', 3482, 3490), Span('methanol', 8090, 8098), Span('methanol', 7545, 7553), Span('methanol', 8662, 8670), Span('methanol', 7965, 7973), Span('methanol', 7053, 7061), Span('methanol', 3543, 3551), Span('methanol', 7171, 7179), Span('methanol', 6937, 6945), Span('nitrobenzene', 7885, 7897), Span('N2', 4203, 4205), Span('N2', 729, 731), Span('N2', 5823, 5825), Span('N2', 5735, 5737), Span('N2', 4958, 4960), Span('N2', 6454, 6456), Span('N2', 6534, 6536), Span('N2', 4787, 4789), Span('N2', 5257, 5259), Span('N2', 5529, 5531), Span('N2', 5073, 5075), Span('N2', 5951, 5953), Span('N2', 1441, 1443), Span('N2', 4306, 4308), Span('N2', 8908, 8910), Span('H2O', 3524, 3527), Span('H2O', 3372, 3375), Span('H2O', 3648, 3651)]\n"
     ]
    }
   ],
   "source": [
    "cross_ref = []\n",
    "for x in gas_names:\n",
    "    for i in range(len(names)):\n",
    "        if names[i].text.lower() == x.lower():\n",
    "            #print(names[i].text)\n",
    "            cross_ref.append(names[i])\n",
    "print(cross_ref)"
   ]
  },
  {
   "cell_type": "code",
   "execution_count": 46,
   "metadata": {
    "scrolled": true
   },
   "outputs": [],
   "source": [
    "sentences = sent_tokenize(text[0])\n"
   ]
  },
  {
   "cell_type": "code",
   "execution_count": 45,
   "metadata": {},
   "outputs": [],
   "source": [
    "important_sent =[]\n",
    "for x in sentences:\n",
    "    for i in range(len(cross_ref)):\n",
    "        if cross_ref[i].text in x:\n",
    "            important_sent.append(x)"
   ]
  },
  {
   "cell_type": "code",
   "execution_count": 44,
   "metadata": {},
   "outputs": [
    {
     "name": "stdout",
     "output_type": "stream",
     "text": [
      "['Moreover, soaking 1 in methanol leads to the exchange of DMF and H2O molecules with methanol to give 1′.The results of thermogravimetric analysis (TGA) indicate that 1 readily lost DMF and H2O molecules in the temperature range of 30–250 °C, and desolvated 1 is stable up to 350 °C, while 1′ shows plateaus from 85 to 350 °C (Figure S2 in the SI).', 'Fluorescence quenching titrations were performed by adding 1 in different concentrations of methanol solutions of TNP.', 'Each In3(CO2)8 SBU, linking eight TTCA ligands, can be regarded as an 8-connected node, and each TTCA ligand, connecting three In3(CO2)8 SBUs, can be considered a 3-connected node, so the overall structure can be simplified to a (3,8)-connected network with {42·6}6{43}2{45·612·810·1010}3 topology (Figure S1b in the SI).', '(1) Recently, MOFs have emerged as excellent sorbents for CO2 capture and storage because of their advantages such as high surface area, tunable pore size, and low crystal density,(2) particularly for the usage of selective capture of CO2 from natural gases.', 'The maximum fluorescent intensity of 1 was reduced by 82.2% upon exposure to 2 mM methanol solutions of TNP [quenching percentage = (I0 – I)/I0 × 100%, where I0 and I are fluorescent intensities of 1 before and after exposure to the nitroaromatic explosives].', '(6)Herein, we report a luminescent microporous MOF, (Me2NH2)6[In10(TTCA)12]·24DMF·15H2O (1; TTCA = triphenylene-2,6,10-tricarboxylate and DMF = N,N-dimethylformamide), that exhibits highly selective CO2 adsorption over CH4 and N2 and selective sensing of the nitro explosive 2,4,6-trinitrophenol (TNP).Solvothermal reaction of triphenylene-2,6,10-tricarboxylic acid (H3TTCA)(7) with In(NO3)3·H2O and hydrochloric acid in DMF and 1,4-dioxane at 170 °C for 72 h led to the formation of colorless block-shaped crystals of 1.', 'The result of single X-ray structural analysis reveals that 1 crystallizes in the R3̅c space group, which adopts a In3(CO2)8 cluster as a secondary building unit (SBU; see Figure S1a in the Supporting Information, SI).', 'Luminescence changes of 1 by the addition of 2 mM methanol solutions of TNP, TNT, 2,4-DNT, 2,6-DNT, and NB.In conclusion, a 3D luminescent microporous MOF based on triphenylene-2,6,10-tricarboxylate has been constructed.', 'As shown in Figure 2, N2 adsorption measurement for 1 at 77 K and 1 atm revealed a reversible type I isotherm with saturated N2 uptake of 247 cm3 g–1 (STP), a characteristic of microporous materials, corresponding to a Brunauer–Emmett–Teller surface area of 726.8 m2 g–1.', 'To our knowledge, among numerous MOFs, only a few frameworks have shown the selectivities of >20 for CO2/CH4 and 200 for CO2/N2 at near room temperature.', '(12) To better understand the interactions between CO2 and the framework of 1, we calculated the isosteric heat Qst of CO2 by fitting the 273 and 298 K isotherms to the virial equation, which is approximately 30.5 kJ mol–1 at zero loading (Figures S7 and S8 in the SI), implying relatively strong interactions between CO2 and the framework of 1.Figure 3.', 'Figure S10 in the SI shows the quenching of luminescent intensities upon the addition of methanol solutions of TNP (0–2 mM).', 'The selective sorption of CO2 rather than CH4 and N2 can be attributed to the quadrupole moment of CO2 (−1.4 × 10–39 cm2), which generates specific interactions with the framework.', 'The In3(CO2)8 SBU contains three In atoms, which are connected by two μ2-CO2 and four μ3-CO2 groups, with an In1···In2 distance of 3.499 Å and an In1···In2···In1 angle of 167.56°.', '(a) CO2, CH4, and N2 uptake curves of 1 at 273 K. (b) Adsorption selectivities of CO2/CH4 and CO2/N2 for 1 at 273 K.The photoluminescence spectrum of 1 exhibits strong emission at 505 nm at ambient temperature upon excitation at 410 nm (Figure S9 in the SI), with a quantum yield of 3%, which prompts us to explore its application for the detection of electron-withdrawing compounds such as nitro explosives.', 'In 1, each TTCA ligand links three In3(CO2)8 SBUs to form a three-dimensional (3D) framework with one-dimensional (1D) channels along the c axis (Figure 1b); the size of the channel is 8 × 8 Å.', '(9) The pores of 1 are filled with disordered Me2NH2+, DMF, and H2O molecules, and the solvent-accessible volume calculated using PLATON(10) is 48.1%.', 'The maximum fluorescent intensity of 1 was reduced by 41.7, 62.1, 73.5, and 65.9% upon exposure to 2 mM methanol solutions of TNT, 2,4-DNT, 2,6-DNT, and NB, respectively.', 'Furthermore, the adsorption isotherm of CO2 also shows a typical type I curve, with the amounts of CO2 uptake increasing abruptly at the beginning and then gradually reaching a plateau of 221 cm3 g–1 (STP) at 195 K and 1 atm.Figure 2.', 'The results of powder X-ray diffraction (PXRD) measurements of 1 and 1′ demonstrate that the framework of 1 is stable in methanol (Figure S3 in the SI).', 'Moreover, there is an obvious red shift (from 505 to 537 nm for the maximum fluorescent emission) for the spectra accompanied by quenching of the luminescent intensity upon the addition of a 2 mM methanol solution of TNP, which can be ascribed to the guest-dependent interactions between the MOF host framework and TNP (kinetic diameter ca.', '(4a-4c) The highly selective adsorption of CO2 over CH4 and N2 suggests that 1 may be useful for methane purification and carbon capture.', 'N2 and H2 adsorption isotherms of 1 at 77 K and CO2 adsorption isotherm of 1 at 195 K.To further examine the gas storage capacity of 1, we also measured the CO2, CH4, and N2 sorptions at near room temperature.', 'H2 adsorption isotherm of 1 measured at 77 K demonstrated an uptake of 167 cm3 g–1 (STP) at 1 atm.', '(6g, 13) On the other hand, the luminescence responses of 1 to other nitro explosives, such as 2,4,6-trinitrotoluene (TNT), 2,4-dinitrotoluene (2,4-DNT), 2,6-dinitrotoluene (2,6-DNT), and nitrobenzene (NB), were ascertained by dispersing 1 in 2 mM nitro explosives in methanol (Figure 4).', 'Using the ideal absorbed solution theory,(11) the selectivity for a 50:50 CO2/CH4 mixture at 273 K and 1 atm is 24 (17 at 298 K), and that for a 15:85 CO2/N2 mixture at 273 K and 1 atm is 221 (71 at 298 K; Figures 3b and S6 in the SI).', 'The compound exhibits highly selective gas adsorption for CO2 over CH4 and N2, recommending the possible applications in purification of natural gas by CO2/CH4 separation and capturing CO2 from flue gases.', 'Interestingly, 1 shows highly selective gas adsorption for CO2 over CH4 and N2 at 273 and 298 K. The CO2 uptakes at 1 atm reach 105.2 cm3 g–1 (4.69 mmol g–1, 20.6 wt %) at 273 K and 69.0 cm3 g–1 (3.08 mmol g–1, 13.5 wt %) at 298 K. For comparison, the CH4 and N2 uptakes are 30.2/18.3 and 7.0/4.3 cm3 g–1, respectively, under the same conditions (Figures 3a and S5 in the SI).', '(3) Until now, only a few porous MOFs have shown highly selective adsorption of CO2 over other gases such as CH4 and N2,(4) and the construction of viable CO2-capture MOF materials that can exhibit high CO2 selectivity over CH4 and N2 still remains a challenge.', '(b) 3D microporous MOF of 1, showing the 1D channels along the c axis.The anionic framework of 1 is balanced by Me2NH2+ cations decomposed from DMF.']\n"
     ]
    }
   ],
   "source": [
    "def remove_duplicate(alist):\n",
    "    return list(set(alist))\n",
    "chem_sent = remove_duplicate(important_sent)\n",
    "print(chem_sent)"
   ]
  }
 ],
 "metadata": {
  "kernelspec": {
   "display_name": "Python 3",
   "language": "python",
   "name": "python3"
  },
  "language_info": {
   "codemirror_mode": {
    "name": "ipython",
    "version": 3
   },
   "file_extension": ".py",
   "mimetype": "text/x-python",
   "name": "python",
   "nbconvert_exporter": "python",
   "pygments_lexer": "ipython3",
   "version": "3.5.4"
  }
 },
 "nbformat": 4,
 "nbformat_minor": 2
}
